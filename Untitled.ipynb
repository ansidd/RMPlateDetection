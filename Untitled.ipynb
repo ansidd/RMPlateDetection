{
 "cells": [
  {
   "cell_type": "code",
   "execution_count": 1,
   "id": "82d40a3b",
   "metadata": {},
   "outputs": [],
   "source": [
    "import numpy as np"
   ]
  },
  {
   "cell_type": "code",
   "execution_count": 5,
   "id": "1851ef9a",
   "metadata": {},
   "outputs": [],
   "source": [
    "A = np.array([[1,1],[2,2],[3,3]])\n",
    "B = np.array([[4,4],[5,5]])"
   ]
  },
  {
   "cell_type": "code",
   "execution_count": 8,
   "id": "05ba72e8",
   "metadata": {},
   "outputs": [
    {
     "data": {
      "text/plain": [
       "array([[-6, -8],\n",
       "       [-4, -6],\n",
       "       [-2, -4]])"
      ]
     },
     "execution_count": 8,
     "metadata": {},
     "output_type": "execute_result"
    }
   ],
   "source": [
    "(A[:,None]-B[None:,]).sum(axis=2)"
   ]
  },
  {
   "cell_type": "code",
   "execution_count": null,
   "id": "29dd9f66",
   "metadata": {},
   "outputs": [],
   "source": []
  }
 ],
 "metadata": {
  "kernelspec": {
   "display_name": "Python 3 (ipykernel)",
   "language": "python",
   "name": "python3"
  },
  "language_info": {
   "codemirror_mode": {
    "name": "ipython",
    "version": 3
   },
   "file_extension": ".py",
   "mimetype": "text/x-python",
   "name": "python",
   "nbconvert_exporter": "python",
   "pygments_lexer": "ipython3",
   "version": "3.9.12"
  }
 },
 "nbformat": 4,
 "nbformat_minor": 5
}
